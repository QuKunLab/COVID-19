{
 "cells": [
  {
   "cell_type": "code",
   "execution_count": 9,
   "metadata": {},
   "outputs": [
    {
     "name": "stdout",
     "output_type": "stream",
     "text": [
      "Counts matrix shape: 66457 rows, 33538 columns\n",
      "Number of genes in gene list: 33538\n"
     ]
    }
   ],
   "source": [
    "import numpy,pandas,scipy.io,scipy.sparse\n",
    "import scrublet\n",
    "#\n",
    "#\n",
    "input_dir = 'cellranger_output_for_healthy_controls/'\n",
    "counts_matrix = scipy.io.mmread(input_dir + '/matrix.mtx').T.tocsc()\n",
    "genes = numpy.array(scrublet.load_genes(input_dir + '/features.tsv', delimiter='\\t', column=1))\n",
    "out_df = pandas.read_csv(input_dir + '/barcodes.tsv', header = None, index_col=None, names=['barcode'])\n",
    "print('Counts matrix shape: {} rows, {} columns'.format(counts_matrix.shape[0], counts_matrix.shape[1]))\n",
    "print('Number of genes in gene list: {}'.format(len(genes)))\n",
    "#"
   ]
  },
  {
   "cell_type": "code",
   "execution_count": 10,
   "metadata": {},
   "outputs": [],
   "source": [
    "scrub = scrublet.Scrublet(counts_matrix, expected_doublet_rate=0.06)"
   ]
  },
  {
   "cell_type": "code",
   "execution_count": 11,
   "metadata": {},
   "outputs": [
    {
     "name": "stdout",
     "output_type": "stream",
     "text": [
      "Preprocessing...\n",
      "Simulating doublets...\n",
      "Embedding transcriptomes using PCA...\n",
      "Calculating doublet scores...\n",
      "Automatically set threshold at doublet score = 0.35\n",
      "Detected doublet rate = 1.7%\n",
      "Estimated detectable doublet fraction = 47.8%\n",
      "Overall doublet rate:\n",
      "\tExpected   = 6.0%\n",
      "\tEstimated  = 3.6%\n",
      "Elapsed time: 236.5 seconds\n"
     ]
    }
   ],
   "source": [
    "doublet_scores, predicted_doublets = scrub.scrub_doublets(min_counts=2, min_cells=3, min_gene_variability_pctl=85, \n",
    "                                                          n_prin_comps=30)"
   ]
  },
  {
   "cell_type": "code",
   "execution_count": 12,
   "metadata": {},
   "outputs": [
    {
     "name": "stdout",
     "output_type": "stream",
     "text": [
      "Detected doublet rate = 2.2%\n",
      "Estimated detectable doublet fraction = 51.4%\n",
      "Overall doublet rate:\n",
      "\tExpected   = 6.0%\n",
      "\tEstimated  = 4.3%\n"
     ]
    },
    {
     "data": {
      "text/plain": [
       "(<Figure size 576x216 with 2 Axes>,\n",
       " array([<matplotlib.axes._subplots.AxesSubplot object at 0x2b45c62c2240>,\n",
       "        <matplotlib.axes._subplots.AxesSubplot object at 0x2b45c6305748>],\n",
       "       dtype=object))"
      ]
     },
     "execution_count": 12,
     "metadata": {},
     "output_type": "execute_result"
    },
    {
     "data": {
      "image/png": "[encoded data removed]",
      "text/plain": [
       "<Figure size 576x216 with 2 Axes>"
      ]
     },
     "metadata": {
      "needs_background": "light"
     },
     "output_type": "display_data"
    }
   ],
   "source": [
    "import matplotlib.pyplot as plt\n",
    "scrub.call_doublets(threshold=0.25)\n",
    "scrub.plot_histogram()"
   ]
  },
  {
   "cell_type": "code",
   "execution_count": 13,
   "metadata": {},
   "outputs": [
    {
     "name": "stdout",
     "output_type": "stream",
     "text": [
      "0.021908903501512256\n"
     ]
    }
   ],
   "source": [
    "print(scrub.detected_doublet_rate_)\n",
    "out_df['doublet_scores'] = doublet_scores\n",
    "out_df['predicted_doublets'] = predicted_doublets\n",
    "out_df.to_csv('healthy_controls_doublets.txt', index=False,header=True)"
   ]
  },
  {
   "cell_type": "code",
   "execution_count": 14,
   "metadata": {},
   "outputs": [
    {
     "name": "stdout",
     "output_type": "stream",
     "text": [
      "Counts matrix shape: 18752 rows, 33538 columns\n",
      "Number of genes in gene list: 33538\n",
      "Preprocessing...\n",
      "Simulating doublets...\n",
      "Embedding transcriptomes using PCA...\n",
      "Calculating doublet scores...\n",
      "Automatically set threshold at doublet score = 0.58\n",
      "Detected doublet rate = 0.4%\n",
      "Estimated detectable doublet fraction = 18.6%\n",
      "Overall doublet rate:\n",
      "\tExpected   = 6.0%\n",
      "\tEstimated  = 2.3%\n",
      "Elapsed time: 27.7 seconds\n",
      "Detected doublet rate = 3.7%\n",
      "Estimated detectable doublet fraction = 44.1%\n",
      "Overall doublet rate:\n",
      "\tExpected   = 6.0%\n",
      "\tEstimated  = 8.4%\n",
      "0.037116040955631396\n"
     ]
    },
    {
     "data": {
      "image/png": "[encoded data removed]",
      "text/plain": [
       "<Figure size 576x216 with 2 Axes>"
      ]
     },
     "metadata": {
      "needs_background": "light"
     },
     "output_type": "display_data"
    }
   ],
   "source": [
    "input_dir = 'cellranger_output_for_COVID19_patients/'\n",
    "counts_matrix = scipy.io.mmread(input_dir + '/matrix.mtx').T.tocsc()\n",
    "genes = numpy.array(scrublet.load_genes(input_dir + '/features.tsv', delimiter='\\t', column=1))\n",
    "out_df = pandas.read_csv(input_dir + '/barcodes.tsv', header = None, index_col=None, names=['barcode'])\n",
    "print('Counts matrix shape: {} rows, {} columns'.format(counts_matrix.shape[0], counts_matrix.shape[1]))\n",
    "print('Number of genes in gene list: {}'.format(len(genes)))\n",
    "scrub = scrublet.Scrublet(counts_matrix, expected_doublet_rate=0.06)\n",
    "doublet_scores, predicted_doublets = scrub.scrub_doublets(min_counts=2, min_cells=3, min_gene_variability_pctl=85, \n",
    "                                                          n_prin_comps=30)\n",
    "scrub.call_doublets(threshold=0.25)\n",
    "scrub.plot_histogram()\n",
    "print(scrub.detected_doublet_rate_)\n",
    "out_df['doublet_scores'] = doublet_scores\n",
    "out_df['predicted_doublets'] = predicted_doublets\n",
    "out_df.to_csv('COVID19_patients_doublets.txt', index=False,header=True)"
   ]
  },
  {
   "cell_type": "code",
   "execution_count": null,
   "metadata": {},
   "outputs": [],
   "source": []
  }
 ],
 "metadata": {
  "kernelspec": {
   "display_name": "Python 3",
   "language": "python",
   "name": "python3"
  },
  "language_info": {
   "codemirror_mode": {
    "name": "ipython",
    "version": 3
   },
   "file_extension": ".py",
   "mimetype": "text/x-python",
   "name": "python",
   "nbconvert_exporter": "python",
   "pygments_lexer": "ipython3",
   "version": "3.6.8"
  }
 },
 "nbformat": 4,
 "nbformat_minor": 2
}
